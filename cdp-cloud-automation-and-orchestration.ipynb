{
 "cells": [
  {
   "cell_type": "markdown",
   "id": "d4ee9e4b",
   "metadata": {},
   "source": [
    "***\n",
    "< [Home](https://github.com/SeanOhAileasa) | [README](https://github.com/SeanOhAileasa/cdp-cloud-automation-and-orchestration/blob/main/README.md) >\n",
    "\n",
    "## CompTIA Cloud+ - Course Material 2022\n",
    "###### Topic: ``Cloud Automation and Orchestration``\n",
    "***"
   ]
  },
  {
   "cell_type": "markdown",
   "id": "e7228f57",
   "metadata": {},
   "source": [
    "<a id=\"top\"></a>\n",
    "***\n",
    "## Table of Contents\n",
    "***"
   ]
  },
  {
   "cell_type": "markdown",
   "id": "c2bb5e7b",
   "metadata": {},
   "source": [
    "### [Cloud Automation and Orchestration](#aa) <br/><br/>\n",
    "<hr width=50%;>"
   ]
  },
  {
   "cell_type": "markdown",
   "id": "e360a7cc",
   "metadata": {},
   "source": [
    "### [Infrastructure as Code](#A) <br/><br/>\n",
    "<hr width=50%;>"
   ]
  },
  {
   "cell_type": "markdown",
   "id": "062df6af",
   "metadata": {},
   "source": [
    "### [Continuous Integration and Continuous Deployment](#B) <br/><br/>\n",
    "<hr width=50%;>"
   ]
  },
  {
   "cell_type": "markdown",
   "id": "0a9c73ff",
   "metadata": {},
   "source": [
    "### [Cloud Version Control](#C) <br/><br/>\n",
    "<hr width=50%;>"
   ]
  },
  {
   "cell_type": "markdown",
   "id": "a6174e8f",
   "metadata": {},
   "source": [
    "### [Cloud Configuration Management](#D) <br/><br/>\n",
    "<hr width=50%;>"
   ]
  },
  {
   "cell_type": "markdown",
   "id": "df92f7c5",
   "metadata": {},
   "source": [
    "### [Cloud Containers](#E) <br/><br/>\n",
    "<hr width=50%;>"
   ]
  },
  {
   "cell_type": "markdown",
   "id": "ca929bbb",
   "metadata": {},
   "source": [
    "### [Cloud Automation Activities](#F) <br/><br/>\n",
    "<hr width=50%;>"
   ]
  },
  {
   "cell_type": "markdown",
   "id": "8a8a759f",
   "metadata": {},
   "source": [
    "### [Cloud Secure Scripting](#G) <br/><br/>\n",
    "<hr width=50%;>"
   ]
  },
  {
   "cell_type": "markdown",
   "id": "593705ac",
   "metadata": {},
   "source": [
    "### [Cloud Orchestration](#H) <br/><br/>\n",
    "<hr width=50%;>"
   ]
  },
  {
   "cell_type": "markdown",
   "id": "d736261b",
   "metadata": {},
   "source": [
    "### [Cloud Backup Targets](#I) <br/><br/>\n",
    "<hr width=50%;>"
   ]
  },
  {
   "cell_type": "markdown",
   "id": "be1c62bf",
   "metadata": {},
   "source": [
    "### [Cloud Backup and Restore Policies](#J) <br/><br/>\n",
    "<hr width=50%;>"
   ]
  },
  {
   "cell_type": "markdown",
   "id": "67a2378e",
   "metadata": {},
   "source": [
    "### [Course Summary](#K) <br/><br/>\n",
    "<hr width=50%;>"
   ]
  },
  {
   "cell_type": "markdown",
   "id": "bf2b95e2",
   "metadata": {},
   "source": [
    "***\n",
    "## END"
   ]
  },
  {
   "cell_type": "markdown",
   "id": "34aa6eb5",
   "metadata": {},
   "source": [
    "< [Table of Contents](#top) | [References](#references) >\n",
    "<a id=\"aa\"></a>\n",
    "***\n",
    "### Cloud Automation and Orchestration\n",
    "***"
   ]
  },
  {
   "cell_type": "markdown",
   "id": "173e78b5",
   "metadata": {},
   "source": []
  },
  {
   "cell_type": "markdown",
   "id": "0c6602eb",
   "metadata": {},
   "source": [
    "< [Table of Contents](#top) | [References](#references) >\n",
    "<a id=\"A\"></a>\n",
    "***\n",
    "### Infrastructure as Code\n",
    "*** "
   ]
  },
  {
   "cell_type": "markdown",
   "id": "25f18b9f",
   "metadata": {},
   "source": []
  },
  {
   "cell_type": "markdown",
   "id": "6b2a3c4d",
   "metadata": {},
   "source": [
    "< [Table of Contents](#top) | [References](#references) >\n",
    "<a id=\"B\"></a>\n",
    "***\n",
    "### Continuous Integration and Continuous Deployment\n",
    "*** "
   ]
  },
  {
   "cell_type": "markdown",
   "id": "546d3ac4",
   "metadata": {},
   "source": []
  },
  {
   "cell_type": "markdown",
   "id": "d70f37c3",
   "metadata": {},
   "source": [
    "< [Table of Contents](#top) | [References](#references) >\n",
    "<a id=\"C\"></a>\n",
    "***\n",
    "### Cloud Version Control\n",
    "*** "
   ]
  },
  {
   "cell_type": "markdown",
   "id": "4289efdc",
   "metadata": {},
   "source": []
  },
  {
   "cell_type": "markdown",
   "id": "70e5b77f",
   "metadata": {},
   "source": [
    "< [Table of Contents](#top) | [References](#references) >\n",
    "<a id=\"D\"></a>\n",
    "***\n",
    "### Cloud Configuration Management\n",
    "*** "
   ]
  },
  {
   "cell_type": "markdown",
   "id": "f366fe76",
   "metadata": {},
   "source": []
  },
  {
   "cell_type": "markdown",
   "id": "0ee30c97",
   "metadata": {},
   "source": [
    "< [Table of Contents](#top) | [References](#references) >\n",
    "<a id=\"E\"></a>\n",
    "***\n",
    "### Cloud Containers\n",
    "*** "
   ]
  },
  {
   "cell_type": "markdown",
   "id": "52210248",
   "metadata": {},
   "source": []
  },
  {
   "cell_type": "markdown",
   "id": "2d420c6c",
   "metadata": {},
   "source": [
    "< [Table of Contents](#top) | [References](#references) >\n",
    "<a id=\"F\"></a>\n",
    "***\n",
    "### Cloud Automation Activities\n",
    "*** "
   ]
  },
  {
   "cell_type": "markdown",
   "id": "daae7dba",
   "metadata": {},
   "source": []
  },
  {
   "cell_type": "markdown",
   "id": "6edcd6bb",
   "metadata": {},
   "source": [
    "< [Table of Contents](#top) | [References](#references) >\n",
    "<a id=\"G\"></a>\n",
    "***\n",
    "### Cloud Secure Scripting\n",
    "*** "
   ]
  },
  {
   "cell_type": "markdown",
   "id": "4e05d579",
   "metadata": {},
   "source": []
  },
  {
   "cell_type": "markdown",
   "id": "26b2bafe",
   "metadata": {},
   "source": [
    "< [Table of Contents](#top) | [References](#references) >\n",
    "<a id=\"H\"></a>\n",
    "***\n",
    "### Cloud Orchestration\n",
    "*** "
   ]
  },
  {
   "cell_type": "markdown",
   "id": "a573df78",
   "metadata": {},
   "source": []
  },
  {
   "cell_type": "markdown",
   "id": "a6fe9293",
   "metadata": {},
   "source": [
    "< [Table of Contents](#top) | [References](#references) >\n",
    "<a id=\"I\"></a>\n",
    "***\n",
    "### Cloud Backup Targets\n",
    "***"
   ]
  },
  {
   "cell_type": "markdown",
   "id": "46af019a",
   "metadata": {},
   "source": []
  },
  {
   "cell_type": "markdown",
   "id": "b3904936",
   "metadata": {},
   "source": [
    " \n",
    "< [Table of Contents](#top) | [References](#references) >\n",
    "<a id=\"J\"></a>\n",
    "***\n",
    "### Cloud Backup and Restore Policies\n",
    "*** "
   ]
  },
  {
   "cell_type": "markdown",
   "id": "de72886d",
   "metadata": {},
   "source": []
  },
  {
   "cell_type": "markdown",
   "id": "45a44050",
   "metadata": {},
   "source": [
    "< [Table of Contents](#top) | [References](#references) >\n",
    "<a id=\"K\"></a>\n",
    "***\n",
    "### Course Summary\n",
    "*** "
   ]
  },
  {
   "cell_type": "markdown",
   "id": "21f6c31c",
   "metadata": {},
   "source": []
  },
  {
   "cell_type": "markdown",
   "id": "2cc20932",
   "metadata": {},
   "source": [
    "***\n",
    "## END"
   ]
  },
  {
   "cell_type": "markdown",
   "id": "e0e42d51",
   "metadata": {},
   "source": [
    "< [Table of Contents](#top) >\n",
    "<a id=\"references\"></a>\n",
    "***\n",
    "## References\n",
    "***"
   ]
  },
  {
   "cell_type": "markdown",
   "id": "757bf6de",
   "metadata": {},
   "source": [
    "&nbsp;&nbsp;&nbsp;&nbsp;&nbsp;&nbsp;&nbsp;&nbsp;&nbsp;skillsoft, \"Cloud Automation and Orchestration,\" [skillsoft.com](https://web.archive.org/web/20220403100053/https://www.skillsoft.com/), n.d.."
   ]
  },
  {
   "cell_type": "markdown",
   "id": "b33c372a",
   "metadata": {},
   "source": [
    "***\n",
    "## END"
   ]
  },
  {
   "cell_type": "markdown",
   "id": "e5961b4d",
   "metadata": {},
   "source": [
    "< [Table of Contents](#top) | [References](#references) >\n",
    "<a id=\"appendix\"></a>\n",
    "***\n",
    "## Appendix\n",
    "***"
   ]
  },
  {
   "cell_type": "markdown",
   "id": "00d82a82",
   "metadata": {},
   "source": [
    "***\n",
    "## END"
   ]
  },
  {
   "cell_type": "code",
   "execution_count": 1,
   "id": "706756a2",
   "metadata": {},
   "outputs": [
    {
     "name": "stderr",
     "output_type": "stream",
     "text": [
      "C:\\Users\\SeanOhAileasa\\AppData\\Local\\Temp\\ipykernel_13520\\1322614208.py:1: DeprecationWarning: Importing display from IPython.core.display is deprecated since IPython 7.14, please import from IPython display\n",
      "  from IPython.core.display import display,HTML\n"
     ]
    },
    {
     "data": {
      "text/html": [
       "<style>.container { width:100% !important; }</style>"
      ],
      "text/plain": [
       "<IPython.core.display.HTML object>"
      ]
     },
     "metadata": {},
     "output_type": "display_data"
    }
   ],
   "source": [
    "from IPython.core.display import display,HTML\n",
    "display(HTML(\"<style>.container { width:100% !important; }</style>\"))"
   ]
  },
  {
   "cell_type": "markdown",
   "id": "899c1783",
   "metadata": {},
   "source": [
    "# END JUPYTER NOTEBOOK"
   ]
  }
 ],
 "metadata": {
  "kernelspec": {
   "display_name": "Python 3 (ipykernel)",
   "language": "python",
   "name": "python3"
  },
  "language_info": {
   "codemirror_mode": {
    "name": "ipython",
    "version": 3
   },
   "file_extension": ".py",
   "mimetype": "text/x-python",
   "name": "python",
   "nbconvert_exporter": "python",
   "pygments_lexer": "ipython3",
   "version": "3.9.12"
  }
 },
 "nbformat": 4,
 "nbformat_minor": 5
}
